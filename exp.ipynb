import matplotlib.pyplot as plt
import numpy as np
data = [4,7,1,8,3,5,6,9,2,10,5,3,7,8,2,4,6,7,9,3,5,6,9,2,10,5,3,7,8,-10,40,55,-8,-16]
unique_values, counts = np.unique(data , return_counts=True)
plt.figure(figsize=(10, 6), dpi=100)

plt.bar(unique_values, counts, color='blue', edgecolor='black', alpha=0.7,width=0.5)

#prints the Histogram
plt.xlabel('Value', fontsize=14)
plt.ylabel('Frequency', fontsize=14)
plt.title('Bar chart of sample Data',fontsize=16)
plt.grid(axis='y',linestyle='--',alpha=0.7)
plt.show()

#prints the boxplot
plt.boxplot(data, patch_artist=True, boxprops=dict(facecolor='blue', color='black'), medianprops=dict(color='red'))

#Prints the outliers
Q1 = np.percentile(data,25 )
Q3 = np.percentile(data,75 )
IRQ = Q3 - Q1

lower_bound = Q1-1.5 * IRQ
upper_bound = Q3+1.5 * IRQ

outliers = [x for x in data if x < lower_bound or x > upper_bound]
print("Outliers : ", outliers)
